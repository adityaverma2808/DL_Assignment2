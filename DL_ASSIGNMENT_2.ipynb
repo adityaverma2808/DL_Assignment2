{
 "cells": [
  {
   "cell_type": "code",
   "execution_count": null,
   "metadata": {},
   "outputs": [],
   "source": [
    "import torch\n",
    "import torchvision\n",
    "import torchvision.transforms as transforms\n",
    "from sklearn.model_selection import train_test_split\n",
    "from torch.utils.data import Subset"
   ]
  },
  {
   "cell_type": "code",
   "execution_count": null,
   "metadata": {},
   "outputs": [],
   "source": [
    "device = torch.device(\"cuda:0\" if torch.cuda.is_available() else \"cpu\")\n",
    "print(device)"
   ]
  },
  {
   "cell_type": "code",
   "execution_count": null,
   "metadata": {},
   "outputs": [],
   "source": [
    "def train_val_dataset(dataset, val_split=0.1):\n",
    "    train_idx, val_idx = train_test_split(list(range(len(dataset))), test_size=val_split)\n",
    "    return dict({\n",
    "        \"train\" : Subset(dataset, train_idx),\n",
    "        \"val\" : Subset(dataset, val_idx)\n",
    "    })\n",
    "\n",
    "def createDataLoader():\n",
    "    mean_values = (0.5, 0.5, 0.5)\n",
    "    std_values = (0.5, 0.5, 0.5)\n",
    "    op_size = 32\n",
    "    transform_train = transforms.Compose([\n",
    "        transforms.RandomResizedCrop(op_size),\n",
    "        transforms.ToTensor(),\n",
    "        transforms.Normalize(mean_values,std_values ),\n",
    "        ])\n",
    "\n",
    "    transform_horizontal = transforms.Compose([\n",
    "        transforms.RandomResizedCrop(op_size),                                        \n",
    "        transforms.RandomHorizontalFlip(),                                       \n",
    "        transforms.ToTensor(),\n",
    "        ])\n",
    "    transform_vertical = transforms.Compose([\n",
    "        transforms.RandomResizedCrop(op_size),                                     \n",
    "        transforms.RandomVerticalFlip(),                                       \n",
    "        transforms.ToTensor(),\n",
    "        ])\n",
    "    transform_Invert= transforms.Compose([\n",
    "        transforms.RandomResizedCrop(op_size),                                  \n",
    "        transforms.RandomInvert(),                                       \n",
    "        transforms.ToTensor(),\n",
    "        ])\n",
    "\n",
    "    dataset_url = \"/content/train_local/inaturalist_12K/train\"\n",
    "\n",
    "    img_data = torchvision.datasets.ImageFolder(root= dataset_url,  transform=transform_train)\n",
    "    img_data_hori= torchvision.datasets.ImageFolder(root= dataset_url,  transform=transform_horizontal)\n",
    "    img_data_vert= torchvision.datasets.ImageFolder(root= dataset_url,  transform=transform_vertical)\n",
    "    img_data_inve= torchvision.datasets.ImageFolder(root= dataset_url,  transform=transform_Invert)\n",
    "    img_data = img_data + img_data_inve + img_data_vert + img_data_hori\n",
    "\n",
    "    img_data = train_val_dataset(img_data)\n",
    "\n",
    "\n",
    "    X_train=img_data['train']\n",
    "    X_Valid=img_data['val']\n",
    "\n",
    "\n",
    "    trainloader = torch.utils.data.DataLoader(X_train, batch_size=128, shuffle=True)\n",
    "    validationloader = torch.utils.data.DataLoader(X_Valid, batch_size=128, shuffle=False)\n",
    "\n",
    "\n",
    "    dataiter = iter(trainloader)\n",
    "    images, labels = dataiter.next()\n",
    "    return trainloader,validationloader\n",
    "\n",
    "\n"
   ]
  }
 ],
 "metadata": {
  "language_info": {
   "name": "python"
  }
 },
 "nbformat": 4,
 "nbformat_minor": 2
}
