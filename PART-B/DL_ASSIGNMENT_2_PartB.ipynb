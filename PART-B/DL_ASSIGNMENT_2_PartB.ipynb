{
  "cells": [
    {
      "cell_type": "code",
      "execution_count": null,
      "metadata": {
        "id": "abG3e6OViuFK"
      },
      "outputs": [],
      "source": [
        "!pip install wandb"
      ]
    },
    {
      "cell_type": "code",
      "execution_count": null,
      "metadata": {},
      "outputs": [],
      "source": [
        "!pip install googlenet_pytorch"
      ]
    },
    {
      "cell_type": "code",
      "execution_count": null,
      "metadata": {
        "id": "9S6zh9swyugU"
      },
      "outputs": [],
      "source": [
        "# Import necessary libraries\n",
        "import torch\n",
        "import torchvision\n",
        "import torchvision.transforms as transforms\n",
        "from sklearn.model_selection import train_test_split\n",
        "from torch.utils.data import Subset\n",
        "import torch.nn as nn\n",
        "import torch.optim as optim\n",
        "import numpy as np\n",
        "import wandb\n",
        "from googlenet_pytorch import GoogLeNet"
      ]
    },
    {
      "cell_type": "code",
      "execution_count": null,
      "metadata": {
        "id": "G_Z5Ndf2iuFS"
      },
      "outputs": [],
      "source": [
        "!wandb login"
      ]
    },
    {
      "cell_type": "code",
      "execution_count": null,
      "metadata": {},
      "outputs": [],
      "source": [
        "import torch\n",
        "import torchvision\n",
        "import torchvision.transforms as transforms\n",
        "from sklearn.model_selection import train_test_split\n",
        "from torch.utils.data import Subset\n",
        "import torch.nn as nn\n",
        "import torch.optim as optim\n",
        "import numpy as np\n",
        "from torch.utils.data import Subset\n",
        "from googlenet_pytorch import GoogLeNet\n",
        "import wandb\n"
      ]
    },
    {
      "cell_type": "code",
      "execution_count": null,
      "metadata": {
        "colab": {
          "base_uri": "https://localhost:8080/"
        },
        "id": "yxOQpXGmyugd",
        "outputId": "d9124905-7db8-405b-aecf-b76fec872b7e"
      },
      "outputs": [
        {
          "name": "stdout",
          "output_type": "stream",
          "text": [
            "cuda:0\n"
          ]
        }
      ],
      "source": [
        "device = torch.device(\"cuda:0\" if torch.cuda.is_available() else \"cpu\")\n",
        "print(device)"
      ]
    },
    {
      "cell_type": "code",
      "execution_count": null,
      "metadata": {
        "id": "dao6n64wyuge"
      },
      "outputs": [],
      "source": [
        "def train_val_dataset(dataset, val_split=0.1):\n",
        "    \"\"\"\n",
        "    Split the dataset into train and validation subsets.\n",
        "\n",
        "    Args:\n",
        "        dataset (torch.utils.data.Dataset): The dataset to be split.\n",
        "        val_split (float): The fraction of the dataset to include in the validation split (default: 0.1).\n",
        "\n",
        "    Returns:\n",
        "        dict: A dictionary containing 'train' and 'val' subsets.\n",
        "    \"\"\"\n",
        "    # Split dataset into train and validation indices\n",
        "    train_idx, val_idx = train_test_split(list(range(len(dataset))), test_size=val_split)\n",
        "    # Return a dictionary containing train and validation subsets\n",
        "    return dict({\n",
        "        \"train\" : Subset(dataset, train_idx),\n",
        "        \"val\" : Subset(dataset, val_idx)\n",
        "    })\n",
        "\n",
        "def createDataLoader():\n",
        "    \"\"\"\n",
        "    Create data loaders for training and validation sets.\n",
        "\n",
        "    Returns:\n",
        "        tuple: Tuple containing training and validation data loaders.\n",
        "    \"\"\"\n",
        "    # Define mean and standard deviation values for normalization\n",
        "    mean_values = (0.5, 0.5, 0.5)\n",
        "    std_values = (0.5, 0.5, 0.5)\n",
        "    op_size = 32\n",
        "    # Define transformations for training set\n",
        "    transform_train = transforms.Compose([\n",
        "        transforms.RandomResizedCrop(op_size),\n",
        "        transforms.ToTensor(),\n",
        "        transforms.Normalize(mean_values,std_values ),\n",
        "        ])\n",
        "    # Define transformations for horizontal flipping augmentation\n",
        "\n",
        "    transform_horizontal = transforms.Compose([\n",
        "        transforms.RandomResizedCrop(op_size),\n",
        "        transforms.RandomHorizontalFlip(),\n",
        "        transforms.ToTensor(),\n",
        "        ])\n",
        "    # Define transformation for vertical flipping augmentation\n",
        "\n",
        "    transform_vertical = transforms.Compose([\n",
        "        transforms.RandomResizedCrop(op_size), # Random resized crop\n",
        "        transforms.RandomVerticalFlip(), # Random vertical flip\n",
        "        transforms.ToTensor(), # Convert to tensor\n",
        "        ])\n",
        "    # Define transformation for inverting augmentation\n",
        "    transform_Invert= transforms.Compose([\n",
        "        transforms.RandomResizedCrop(op_size), # Random resized crop\n",
        "        transforms.RandomInvert(), # Random invert\n",
        "        transforms.ToTensor(), # Convert to tensor\n",
        "        ])\n",
        "    # Define the directory containing the dataset\n",
        "    dataset_url = \"/content/drive/MyDrive/dl-assigment-2/inaturalist_12K/train\"\n",
        "    # Load the image data with different transformations\n",
        "    img_data = torchvision.datasets.ImageFolder(root= dataset_url,  transform=transform_train)\n",
        "    img_data_hori= torchvision.datasets.ImageFolder(root= dataset_url,  transform=transform_horizontal)\n",
        "    img_data_vert= torchvision.datasets.ImageFolder(root= dataset_url,  transform=transform_vertical)\n",
        "    img_data_inve= torchvision.datasets.ImageFolder(root= dataset_url,  transform=transform_Invert)\n",
        "    # Combine all datasets\n",
        "    img_data = img_data + img_data_inve + img_data_vert + img_data_hori\n",
        "    # Split the combined dataset into train and validation sets\n",
        "    img_data = train_val_dataset(img_data)\n",
        "\n",
        "    # Get train and validation subsets\n",
        "    X_train=img_data['train']\n",
        "    X_Valid=img_data['val']\n",
        "\n",
        "    # Create data loaders for train and validation sets\n",
        "    trainloader = torch.utils.data.DataLoader(X_train, batch_size=128, shuffle=True)\n",
        "    validationloader = torch.utils.data.DataLoader(X_Valid, batch_size=128, shuffle=False)\n",
        "\n",
        "    # Get an iterator for trainloader\n",
        "    dataiter = iter(trainloader)\n",
        "    # images, labels = dataiter.next()\n",
        "    # Return trainloader and validationloader\n",
        "    return trainloader,validationloader\n",
        "\n",
        "\n",
        "def accuracy(dataset_itr,model,norm_fact):\n",
        "    \"\"\"\n",
        "    Calculate the accuracy of the model on a given dataset.\n",
        "\n",
        "    Args:\n",
        "        dataset_itr (iterable): Iterable containing the dataset.\n",
        "        model (torch.nn.Module): The model to evaluate.\n",
        "        norm_fact: Normalization factor.\n",
        "\n",
        "    Returns:\n",
        "        float: Accuracy of the model on the dataset.\n",
        "    \"\"\"\n",
        "    total = 0\n",
        "    pred_count = 0\n",
        "    # Iterate over the dataset\n",
        "    for dataset in dataset_itr:\n",
        "        X,y=dataset\n",
        "        # Move data to the appropriate device\n",
        "        X = X.to(device)\n",
        "        y = y.to(device)\n",
        "        # Get predictions from the model\n",
        "        pred = torch.max(model(X,norm_fact).data,1)[1]\n",
        "        # Update counts\n",
        "        total+=y.size(0)\n",
        "        pred_count+=(pred==y).sum().item()\n",
        "        # Calculate accuracy\n",
        "        acc = (100*pred_count)/total\n",
        "    return acc\n"
      ]
    },
    {
      "cell_type": "code",
      "execution_count": null,
      "metadata": {
        "id": "LKkt7bKlyugg"
      },
      "outputs": [],
      "source": [
        "def fit(batch_norm,k,file_org,F,max_epochs,batch_size,d,act_fun=nn.ReLU()):\n",
        "    \"\"\"\n",
        "    Train the model.\n",
        "\n",
        "    Args:\n",
        "        batch_norm (bool): Whether to use batch normalization.\n",
        "        k (int): Filter size.\n",
        "        file_org (float): Factor by which filter size increases.\n",
        "        F (int): Filter size for convolutional layers.\n",
        "        max_epochs (int): Maximum number of epochs for training.\n",
        "        batch_size (int): Batch size for training.\n",
        "        d (float): Dropout probability.\n",
        "        act_fun: Activation function to use.\n",
        "\n",
        "    Returns:\n",
        "        None\n",
        "    \"\"\"\n",
        "    # Initialize the model\n",
        "    model = GoogLeNet.from_pretrained('googlenet')\n",
        "    model.aux_logits=False\n",
        "    # Define optimizer and loss function\n",
        "    opt=optim.SGD(model.parameters(),lr=0.001,momentum=0.9)\n",
        "\n",
        "    loss_fn = nn.CrossEntropyLoss()\n",
        "    train_loss,val_loss=[],[]\n",
        "    # Calculate number of iterations per epoch\n",
        "    n_iter=np.ceil(8999/batch_size)\n",
        "    # Create data loaders\n",
        "    trainloader,validationloader = createDataLoader()\n",
        "    epoch = 0\n",
        "    # Start training loop\n",
        "    while epoch<max_epochs:\n",
        "        for key,data in enumerate(trainloader,0):\n",
        "            X,y=data\n",
        "            X = X.to(device)\n",
        "            y = y.to(device)\n",
        "            # Zero gradients\n",
        "            opt.zero_grad()\n",
        "\n",
        "            outputs=model(X,batch_norm)\n",
        "            loss=loss_fn(outputs,y)\n",
        "            loss.backward()\n",
        "            opt.step()\n",
        "\n",
        "            del X,y,outputs\n",
        "            torch.cuda.empty_cache()\n",
        "\n",
        "            if(key%100==0):\n",
        "                print(f\"Iter No. : {key}/{n_iter} , loss: {round(loss.item(),2)} \")\n",
        "\n",
        "\n",
        "\n",
        "        for key,data in enumerate(validationloader,0):\n",
        "            X,y=data\n",
        "            X = X.to(device)\n",
        "            y = y.to(device)\n",
        "\n",
        "            outputs = model(X,batch_norm)\n",
        "            loss = loss_fn(outputs,y)\n",
        "\n",
        "            del X\n",
        "            del y\n",
        "            del outputs\n",
        "            torch.cuda.empty_cache()\n",
        "\n",
        "        epoch+=1\n",
        "    val_loss.append(loss.item())\n",
        "    train_loss.append(loss.item())\n",
        "    # Log metrics to W&B\n",
        "    wandb.log({\n",
        "        \"Epoch\":epoch,\n",
        "        \"Train loss\":train_loss[epoch],\n",
        "        \"validation loss\":val_loss[epoch],\n",
        "        \"Validation Acc\":accuracy(validationloader,model,batch_norm),\n",
        "    })\n",
        "\n",
        "    print(\"Training_accuracy:%.2f\" % (accuracy(trainloader,model,batch_norm)))\n",
        "    print(\"Validation_accuracy:%.2f\" % (accuracy(validationloader,model,batch_norm)))"
      ]
    },
    {
      "cell_type": "code",
      "execution_count": null,
      "metadata": {
        "id": "MiprYpX_iuFa"
      },
      "outputs": [],
      "source": [
        "hyperparameter_defaults= {\n",
        "             \"batch_norm\":0, # Whether to use batch normalization (0 for False, 1 for True)\n",
        "             \"no_of_layers\":16, # Number of convolutional layers\n",
        "             \"file_org\":1, # Factor by which filter size increases\n",
        "             \"Filter_size\":3, # Size of the filters\n",
        "              \"max_epochs\":2, # Maximum number of epochs for training\n",
        "              \"batch_size\":128, # Batch size for training\n",
        "              \"drop_out\":0.3 # Dropout probability\n",
        "}"
      ]
    },
    {
      "cell_type": "code",
      "execution_count": null,
      "metadata": {
        "id": "pRMNUDE_0S7U"
      },
      "outputs": [],
      "source": [
        "# fit(batch_norm=1,k=128,file_org=1,F=3,max_epochs=20,batch_size=128,d=0.0,act_fun=nn.ReLU())\n",
        "def train():\n",
        "  \"\"\"\n",
        "    Train the model with hyperparameters specified in the W&B config.\n",
        "\n",
        "    Returns:\n",
        "        None\n",
        "  \"\"\"\n",
        "  wandb.init(config=hyperparameter_defaults)\n",
        "  config=wandb.config\n",
        "  fit(batch_norm = config.batch_norm,\n",
        "      k = config.no_of_layers,\n",
        "      file_org = config.file_org,\n",
        "      F = config.Filter_size,\n",
        "      max_epochs = config.max_epochs,\n",
        "      batch_size = config.batch_size,\n",
        "      d = config.drop_out,\n",
        "      act_fun=nn.ReLU())\n",
        "   #change\n"
      ]
    },
    {
      "cell_type": "code",
      "execution_count": null,
      "metadata": {
        "id": "Y1EmZ_XaiuFg"
      },
      "outputs": [],
      "source": [
        "train()"
      ]
    }
  ],
  "metadata": {
    "accelerator": "GPU",
    "colab": {
      "gpuType": "T4",
      "provenance": []
    },
    "kernelspec": {
      "display_name": "Python 3",
      "name": "python3"
    },
    "language_info": {
      "name": "python"
    }
  },
  "nbformat": 4,
  "nbformat_minor": 0
}
